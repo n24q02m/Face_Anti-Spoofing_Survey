{
  "nbformat": 4,
  "nbformat_minor": 0,
  "metadata": {
    "colab": {
      "provenance": [],
      "authorship_tag": "ABX9TyN2XATIlER4ZikneVT0xlAi",
      "include_colab_link": true
    },
    "kernelspec": {
      "name": "python3",
      "display_name": "Python 3"
    },
    "language_info": {
      "name": "python"
    }
  },
  "cells": [
    {
      "cell_type": "markdown",
      "metadata": {
        "id": "view-in-github",
        "colab_type": "text"
      },
      "source": [
        "<a href=\"https://colab.research.google.com/github/n24q02m/Face_Anti-Spoofing_Survey/blob/main/src/inference/DGUAFAS_test.ipynb\" target=\"_parent\"><img src=\"https://colab.research.google.com/assets/colab-badge.svg\" alt=\"Open In Colab\"/></a>"
      ]
    },
    {
      "cell_type": "code",
      "execution_count": null,
      "metadata": {
        "id": "esdz8B-D03UX"
      },
      "outputs": [],
      "source": [
        "!pip install kaggle"
      ]
    },
    {
      "cell_type": "code",
      "source": [
        "import os\n",
        "import json\n",
        "from pathlib import Path\n",
        "from google.colab import userdata"
      ],
      "metadata": {
        "id": "bAh9e3TZ098c"
      },
      "execution_count": null,
      "outputs": []
    },
    {
      "cell_type": "code",
      "source": [
        "# Setup Kaggle API credentials\n",
        "os.makedirs(\"/root/.kaggle\", exist_ok=True)\n",
        "kaggle_token = {\n",
        "    \"username\": userdata.get('username'),\n",
        "    \"key\": userdata.get('kaggle-api-key'),\n",
        "}\n",
        "\n",
        "with open(\"/root/.kaggle/kaggle.json\", \"w\") as f:\n",
        "    json.dump(kaggle_token, f)\n",
        "!chmod 600 /root/.kaggle/kaggle.json"
      ],
      "metadata": {
        "id": "48O5-KH-04Vt"
      },
      "execution_count": null,
      "outputs": []
    },
    {
      "cell_type": "code",
      "source": [
        "from kaggle.api.kaggle_api_extended import KaggleApi"
      ],
      "metadata": {
        "id": "__WCSI111CtW"
      },
      "execution_count": null,
      "outputs": []
    },
    {
      "cell_type": "code",
      "source": [
        "# Download dataset from Kaggle\n",
        "api = KaggleApi()\n",
        "api.authenticate()\n",
        "\n",
        "dataset_dir = Path(\"./data/CATI-FAS_dataset\")\n",
        "if not dataset_dir.exists():\n",
        "    dataset_dir.mkdir(parents=True)\n",
        "    api.dataset_download_files(\n",
        "        \"n24q02m/cati-fas-face-anti-spoofing-dataset\", path=str(dataset_dir), unzip=True\n",
        "    )\n",
        "    print(\"Downloading dataset...\")\n",
        "else:\n",
        "    print(\"Dataset already exists.\")"
      ],
      "metadata": {
        "id": "SEgy7krO1DmT"
      },
      "execution_count": null,
      "outputs": []
    },
    {
      "cell_type": "code",
      "source": [
        "!git clone https://github.com/n24q02m/Face_Anti-Spoofing_Survey.git\n",
        "!cd Face_Anti-Spoofing_Survey"
      ],
      "metadata": {
        "id": "oHL-uK551L7l"
      },
      "execution_count": null,
      "outputs": []
    },
    {
      "cell_type": "code",
      "source": [
        "# Setup DGUA_FAS\n",
        "!cd DGUA_FAS/ml-cvnets\n",
        "!pip install -r requirements.txt\n",
        "!pip install --editable .\n",
        "!pip install pandas tensorboard\n",
        "!cd .."
      ],
      "metadata": {
        "id": "TLr7F8E414PR"
      },
      "execution_count": null,
      "outputs": []
    },
    {
      "cell_type": "code",
      "source": [
        "# Generate CATI-FAS_dataset test label\n",
        "!cd ./data_label\n",
        "!python generate_label.py"
      ],
      "metadata": {
        "id": "hAjVuBDb2aaT"
      },
      "execution_count": null,
      "outputs": []
    },
    {
      "cell_type": "code",
      "source": [
        "# Test DGUA_FAS\n",
        "!cd ..\n",
        "!cd ./experiment/m/\n",
        "!python dg_test.py"
      ],
      "metadata": {
        "id": "GKrbjrxT2tLB"
      },
      "execution_count": null,
      "outputs": []
    },
    {
      "cell_type": "code",
      "source": [
        "# Github push\n",
        "!git config --global user.email {userdata.get('email')}\n",
        "!git config --global user.name {userdata.get('username')}\n",
        "!git remote set-url origin https://{userdata.get('github-token')}@github.com/n24q02m/Face_Anti-Spoofing_Survey.git\n",
        "!git add .\n",
        "!git commit -m \"Update from Colab\"\n",
        "!git push origin main"
      ],
      "metadata": {
        "id": "qrODHxZU3ukA"
      },
      "execution_count": null,
      "outputs": []
    }
  ]
}