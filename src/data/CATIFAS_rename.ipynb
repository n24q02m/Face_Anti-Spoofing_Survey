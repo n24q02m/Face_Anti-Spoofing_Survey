{
 "cells": [
  {
   "cell_type": "code",
   "execution_count": null,
   "metadata": {},
   "outputs": [],
   "source": [
    "!pip install kaggle pillow pillow-heif"
   ]
  },
  {
   "cell_type": "code",
   "execution_count": null,
   "metadata": {},
   "outputs": [],
   "source": [
    "import os\n",
    "import json\n",
    "import shutil\n",
    "from pathlib import Path\n",
    "import zipfile\n",
    "from tqdm.notebook import tqdm"
   ]
  },
  {
   "cell_type": "code",
   "execution_count": null,
   "metadata": {},
   "outputs": [],
   "source": [
    "# Setup Kaggle API credentials\n",
    "os.makedirs(\"/root/.kaggle\", exist_ok=True)\n",
    "kaggle_token = {\n",
    "    \"username\": \"<your-username>\",\n",
    "    \"key\": \"<your-kaggle-api-key>\"\n",
    "}\n",
    "\n",
    "with open(\"/root/.kaggle/kaggle.json\", \"w\") as f:\n",
    "    json.dump(kaggle_token, f)\n",
    "!chmod 600 /root/.kaggle/kaggle.json"
   ]
  },
  {
   "cell_type": "code",
   "execution_count": null,
   "metadata": {},
   "outputs": [],
   "source": [
    "from kaggle.api.kaggle_api_extended import KaggleApi"
   ]
  },
  {
   "cell_type": "code",
   "execution_count": null,
   "metadata": {},
   "outputs": [],
   "source": [
    "# Download dataset from Kaggle\n",
    "api = KaggleApi()\n",
    "api.authenticate()\n",
    "\n",
    "dataset_dir = Path(\"./data/CATI-FAS_dataset\")\n",
    "if not dataset_dir.exists():\n",
    "    dataset_dir.mkdir(parents=True)\n",
    "    api.dataset_download_files(\n",
    "        \"n24q02m/cati-fas-face-anti-spoofing-dataset\", path=str(dataset_dir), unzip=True\n",
    "    )\n",
    "    print(\"Downloading dataset...\")\n",
    "else:\n",
    "    print(\"Dataset already exists.\")"
   ]
  },
  {
   "cell_type": "code",
   "execution_count": null,
   "metadata": {},
   "outputs": [],
   "source": [
    "# Rename files in live and spoof folders\n",
    "def rename_files(directory):\n",
    "    files = list(Path(directory).rglob(\"*.*\"))\n",
    "    for idx, file in enumerate(tqdm(files, desc=f\"Renaming files in {directory}\")):\n",
    "        new_name = f\"{idx+1:06d}{file.suffix}\"\n",
    "        new_path = file.parent / new_name\n",
    "        file.rename(new_path)\n",
    "\n",
    "\n",
    "rename_files(dataset_dir / \"live\")\n",
    "rename_files(dataset_dir / \"spoof\")"
   ]
  },
  {
   "cell_type": "code",
   "execution_count": null,
   "metadata": {},
   "outputs": [],
   "source": [
    "# Upload updated dataset to Kaggle\n",
    "metadata = {\n",
    "    \"title\": \"CATI-FAS - Face Anti-Spoofing Dataset\",\n",
    "    \"id\": \"n24q02m/cati-fas-face-anti-spoofing-dataset\",\n",
    "    \"licenses\": [{\"name\": \"CC0-1.0\"}],\n",
    "}\n",
    "metadata_path = dataset_dir / \"dataset-metadata.json\"\n",
    "with open(metadata_path, \"w\") as f:\n",
    "    json.dump(metadata, f, indent=4)\n",
    "\n",
    "api = KaggleApi()\n",
    "api.authenticate()\n",
    "print(\"Uploading dataset to Kaggle...\")\n",
    "api.dataset_create_new(folder=str(dataset_dir), dir_mode=\"zip\", quiet=False)\n",
    "print(\"Dataset created successfully on Kaggle!\")"
   ]
  }
 ],
 "metadata": {
  "kernelspec": {
   "display_name": "fas",
   "language": "python",
   "name": "python3"
  },
  "language_info": {
   "name": "python",
   "version": "3.11.11"
  }
 },
 "nbformat": 4,
 "nbformat_minor": 2
}
