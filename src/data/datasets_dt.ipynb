{
 "cells": [
  {
   "cell_type": "code",
   "execution_count": null,
   "metadata": {
    "vscode": {
     "languageId": "plaintext"
    }
   },
   "outputs": [],
   "source": [
    "# Import required libraries\n",
    "import os\n",
    "import cv2\n",
    "import numpy as np\n",
    "from pathlib import Path\n",
    "from tqdm.notebook import tqdm\n",
    "import torch\n",
    "import torchvision\n",
    "from facenet_pytorch import MTCNN"
   ]
  },
  {
   "cell_type": "code",
   "execution_count": null,
   "metadata": {
    "vscode": {
     "languageId": "plaintext"
    }
   },
   "outputs": [],
   "source": [
    "# Dataset paths\n",
    "DATASETS = {\n",
    "    'CATI-FAS': '/kaggle/input/cati-fas-face-anti-spoofing-dataset',\n",
    "    'LCC-FASD': '/kaggle/input/lcc-fasd-face-anti-spoofing-dataset',\n",
    "    'NUAAA': '/kaggle/input/nuaaaa-face-anti-spoofing-dataset'\n",
    "}"
   ]
  },
  {
   "cell_type": "code",
   "execution_count": null,
   "metadata": {
    "vscode": {
     "languageId": "plaintext"
    }
   },
   "outputs": [],
   "source": [
    "# Initialize MTCNN model for face detection\n",
    "device = torch.device('cuda' if torch.cuda.is_available() else 'cpu')\n",
    "mtcnn = MTCNN(\n",
    "    image_size=224,\n",
    "    margin=0,\n",
    "    min_face_size=20,\n",
    "    thresholds=[0.6, 0.7, 0.7],\n",
    "    factor=0.709,\n",
    "    device=device,\n",
    "    keep_all=False  # Only detect most prominent face\n",
    ")"
   ]
  },
  {
   "cell_type": "code",
   "execution_count": null,
   "metadata": {
    "vscode": {
     "languageId": "plaintext"
    }
   },
   "outputs": [],
   "source": [
    "def process_image(img_path, output_path, dataset_name):\n",
    "    \"\"\"Process single image and generate BB file\"\"\"\n",
    "    try:\n",
    "        # Read image\n",
    "        img = cv2.imread(img_path)\n",
    "        if img is None:\n",
    "            return False\n",
    "            \n",
    "        # Get image dimensions\n",
    "        real_h, real_w = img.shape[:2]\n",
    "        \n",
    "        # Convert BGR to RGB\n",
    "        img_rgb = cv2.cvtColor(img, cv2.COLOR_BGR2RGB)\n",
    "        \n",
    "        # Detect faces\n",
    "        boxes, probs = mtcnn.detect(img_rgb)\n",
    "        \n",
    "        if boxes is None or len(boxes) == 0:\n",
    "            return False\n",
    "            \n",
    "        # Get coordinates of most confident detection\n",
    "        box = boxes[0]\n",
    "        prob = probs[0]\n",
    "        \n",
    "        # Convert to format: x, y, w, h\n",
    "        x1, y1, x2, y2 = box\n",
    "        w = x2 - x1\n",
    "        h = y2 - y1\n",
    "        \n",
    "        # Scale coordinates to 224x224\n",
    "        x = int(x1 * 224 / real_w)\n",
    "        y = int(y1 * 224 / real_h) \n",
    "        w = int(w * 224 / real_w)\n",
    "        h = int(h * 224 / real_h)\n",
    "        \n",
    "        # Write BB file\n",
    "        bb_path = output_path / f\"{img_path.stem}_BB.txt\"\n",
    "        with open(bb_path, 'w') as f:\n",
    "            f.write(f\"{x} {y} {w} {h} {prob:.7f}\")\n",
    "            \n",
    "        return True\n",
    "        \n",
    "    except Exception as e:\n",
    "        print(f\"Error processing {img_path}: {str(e)}\")\n",
    "        return False"
   ]
  },
  {
   "cell_type": "code",
   "execution_count": null,
   "metadata": {
    "vscode": {
     "languageId": "plaintext"
    }
   },
   "outputs": [],
   "source": [
    "def process_dataset(dataset_path, dataset_name):\n",
    "    \"\"\"Process entire dataset\"\"\"\n",
    "    print(f\"\\nProcessing {dataset_name}...\")\n",
    "    \n",
    "    # Setup paths\n",
    "    dataset_path = Path(dataset_path)\n",
    "    output_path = Path(f\"/kaggle/working/{dataset_name}\")\n",
    "    os.makedirs(output_path, exist_ok=True)\n",
    "    \n",
    "    # Find all images recursively\n",
    "    image_files = []\n",
    "    for ext in ['.jpg', '.jpeg', '.png', '.heic']:\n",
    "        image_files.extend(list(dataset_path.rglob(f\"*{ext}\")))\n",
    "    \n",
    "    print(f\"Found {len(image_files)} images\")\n",
    "    \n",
    "    # Process each image\n",
    "    success = 0\n",
    "    for img_path in tqdm(image_files, desc=\"Detecting faces\"):\n",
    "        if process_image(img_path, output_path, dataset_name):\n",
    "            success += 1\n",
    "            \n",
    "    print(f\"Successfully processed {success}/{len(image_files)} images\")\n",
    "    return success"
   ]
  },
  {
   "cell_type": "code",
   "execution_count": null,
   "metadata": {
    "vscode": {
     "languageId": "plaintext"
    }
   },
   "outputs": [],
   "source": [
    "# Main execution\n",
    "if __name__ == \"__main__\":\n",
    "    print(\"Starting face detection...\")\n",
    "    print(f\"Using device: {device}\")\n",
    "    \n",
    "    total_processed = 0\n",
    "    \n",
    "    # Process each dataset\n",
    "    for name, path in DATASETS.items():\n",
    "        if os.path.exists(path):\n",
    "            total_processed += process_dataset(path, name)\n",
    "        else:\n",
    "            print(f\"\\nSkipping {name} - directory not found\")\n",
    "            \n",
    "    print(f\"\\nTotal images processed: {total_processed}\")"
   ]
  }
 ],
 "metadata": {
  "language_info": {
   "name": "python"
  }
 },
 "nbformat": 4,
 "nbformat_minor": 2
}
